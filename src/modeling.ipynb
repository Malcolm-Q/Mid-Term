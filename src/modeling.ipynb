{
 "cells": [
  {
   "cell_type": "markdown",
   "metadata": {},
   "source": [
    "# Machine Learning\n",
    "\n",
    "In this file, instructions how to approach the challenge can be found."
   ]
  },
  {
   "cell_type": "markdown",
   "metadata": {},
   "source": [
    "We are going to work on different types of Machine Learning problems:\n",
    "\n",
    "- **Regression Problem**: The goal is to predict delay of flights.\n",
    "- **(Stretch) Multiclass Classification**: If the plane was delayed, we will predict what type of delay it is (will be).\n",
    "- **(Stretch) Binary Classification**: The goal is to predict if the flight will be cancelled."
   ]
  },
  {
   "cell_type": "code",
   "execution_count": 1,
   "metadata": {},
   "outputs": [],
   "source": [
    "import pandas as pd\n",
    "import numpy as np\n",
    "from modules.data_preprocessing import clean_raw, loader\n",
    "from modules.weather import harvest_weather_data, clean_weather, light_clean\n",
    "pd.options.mode.chained_assignment = None\n",
    "#clean_raw(path='../data/raw_regression_data/*',save_path='../data/preprocessed_data_regression/',overwrite=True)\n",
    "jan = pd.concat([pd.read_feather('../data/preprocessed_data_regression/delayed_01.feather'),pd.read_feather('../data/preprocessed_data_regression/delayed_02.feather')])"
   ]
  },
  {
   "cell_type": "code",
   "execution_count": 94,
   "metadata": {},
   "outputs": [],
   "source": [
    "#clean_raw(path='../data/raw_regression_data/*',save_path='../data/preprocessed_data_regression/',overwrite=True,day_of_week=False)\n",
    "jan = pd.concat([pd.read_feather('../data/preprocessed_data_regression/delayed_01.feather'),pd.read_feather('../data/preprocessed_data_regression/delayed_02.feather')])\n",
    "#arr_weather = harvest_weather_data(jan[['dest_city_name','fl_date']],save=True,prefix='regression_inner_',rotate=True)\n",
    "arr_weather = pd.read_csv('../data/weather/regression_inner_weather_data.csv')\n",
    "dep_weather = pd.read_csv('../data/weather/regression_inner_dep_weather_data.csv')\n",
    "arr_weather.columns = ['Unnamed: 0','arr_weather']\n",
    "arr_weather = light_clean(arr_weather.arr_weather)\n",
    "dep_weather = light_clean(dep_weather.weather)\n",
    "dep_weather.rename('dep_weather', inplace=True)\n",
    "jan = pd.concat([jan.reset_index(drop=True),arr_weather.reset_index(drop=True), dep_weather.reset_index(drop=True)],axis=1)\n",
    "#jan.drop('Unnamed: 0', axis=1, inplace=True)\n",
    "carrier_stats = pd.read_csv('../data/raw_regression_passenger/carrier_passenger_stats.csv')\n",
    "jan = pd.merge(jan,carrier_stats,left_on='op_unique_carrier',right_on='unique_carrier')\n",
    "jan.drop('unique_carrier',axis=1,inplace=True)\n",
    "jan['rush_hour'] = jan.crs_arr_time.transform(lambda x: (x > 5) and (x < 20)).map({True:1,False:0})\n",
    "jan['rush_hour_dep'] = jan.crs_dep_time.transform(lambda x: (x > 5) and (x < 20)).map({True:1,False:0})\n",
    "origin_delay = jan.groupby(by='origin').arr_delay.mean()\n",
    "dest_delay = jan.groupby(by='dest').total_delay.mean()\n",
    "jan = pd.merge(jan,origin_delay,left_on='origin',right_on=origin_delay.index)\n",
    "jan = pd.merge(jan,dest_delay,left_on='dest',right_on=dest_delay.index)\n",
    "flight_time = pd.read_csv('../data/raw_regression_passenger/carrier_avg_flight_time.csv')\n",
    "jan = pd.merge(jan,flight_time,left_on='op_unique_carrier',right_on='op_unique_carrier')\n",
    "jan.columns = ['fl_date', 'op_unique_carrier', 'origin', 'dest', 'origin_city_name',\n",
    "       'dest_city_name', 'crs_dep_time', 'crs_arr_time', 'crs_elapsed_time',\n",
    "       'arr_delay', 'dep_delay', 'arr_weather', 'dep_weather',\n",
    "       'avg_occupancy', 'avg_passengers', 'avg_seats', 'rush_hour',\n",
    "       'rush_hour_dep', 'arr_delay_avg', 'dest_delay_avg', 'avg_carrier_speed']"
   ]
  },
  {
   "cell_type": "markdown",
   "metadata": {},
   "source": [
    "## Main Task: Regression Problem"
   ]
  },
  {
   "cell_type": "markdown",
   "metadata": {},
   "source": [
    "The target variable is **ARR_DELAY**. We need to be careful which columns to use and which don't. For example, DEP_DELAY is going to be the perfect predictor, but we can't use it because in real-life scenario, we want to predict the delay before the flight takes of --> We can use average delay from earlier days but not the one from the actual flight we predict.  \n",
    "\n",
    "For example, variables **CARRIER_DELAY, WEATHER_DELAY, NAS_DELAY, SECURITY_DELAY, LATE_AIRCRAFT_DELAY** shouldn't be used directly as predictors as well. However, we can create various transformations from earlier values.\n",
    "\n",
    "We will be evaluating your models by predicting the ARR_DELAY for all flights **1 week in advance**."
   ]
  },
  {
   "cell_type": "code",
   "execution_count": 96,
   "metadata": {},
   "outputs": [
    {
     "name": "stderr",
     "output_type": "stream",
     "text": [
      "c:\\Users\\malco\\anaconda3\\lib\\site-packages\\sklearn\\utils\\deprecation.py:87: FutureWarning: Function get_feature_names is deprecated; get_feature_names is deprecated in 1.0 and will be removed in 1.2. Please use get_feature_names_out instead.\n",
      "  warnings.warn(msg, category=FutureWarning)\n"
     ]
    }
   ],
   "source": [
    "from sklearn.preprocessing import OneHotEncoder\n",
    "from sklearn.model_selection import train_test_split\n",
    "\n",
    "one_hot = OneHotEncoder()\n",
    "\n",
    "X = jan[['fl_date', 'op_unique_carrier', 'origin', 'dest','crs_dep_time', 'crs_arr_time', 'crs_elapsed_time', 'arr_weather', 'dep_weather',\n",
    "       'avg_occupancy', 'avg_seats', 'avg_passengers','rush_hour','rush_hour_dep',\n",
    "       'arr_delay_avg', 'dest_delay_avg', 'avg_carrier_speed']]\n",
    "       \n",
    "one_hot.fit(X[['fl_date','op_unique_carrier','origin','dest', 'arr_weather', 'dep_weather']])\n",
    "encoded_X = one_hot.transform(X[['fl_date','op_unique_carrier','origin','dest', 'arr_weather', 'dep_weather']]).toarray()\n",
    "encoded_df = pd.DataFrame(encoded_X, columns=one_hot.get_feature_names(['fl_date','op_unique_carrier','origin','dest', 'arr_weather', 'dep_weather']))\n",
    "df = pd.concat([X.reset_index(drop=True), encoded_df.reset_index(drop=True)], axis=1)\n",
    "df.drop(['op_unique_carrier','origin','dest','fl_date', 'arr_weather', 'dep_weather','avg_seats'],inplace=True,axis=1)\n",
    "y = jan.arr_delay\n",
    "\n",
    "x_train,x_test,y_train,y_test=train_test_split(df,y,test_size=0.2)"
   ]
  },
  {
   "cell_type": "code",
   "execution_count": 68,
   "metadata": {},
   "outputs": [],
   "source": [
    "'''import pickle\n",
    "pickle.dump(rand_forest, open('first_forest.pkl', 'wb'))'''"
   ]
  },
  {
   "cell_type": "code",
   "execution_count": null,
   "metadata": {},
   "outputs": [],
   "source": [
    "import pickle\n",
    "loaded_model = pickle.load(open('first_forest.pkl' , 'rb'))\n",
    "result = loaded_model.score(x_test, y_test)\n",
    "print(result)"
   ]
  },
  {
   "cell_type": "code",
   "execution_count": 151,
   "metadata": {},
   "outputs": [],
   "source": [
    "import xgboost as xgb\n",
    "\n",
    "params = {\n",
    "    \"max_depth\": 13,\n",
    "    \"eta\": 0.2,\n",
    "    'n_estimators':150\n",
    "}\n",
    "\n",
    "xgb_reg = xgb.XGBRegressor(**params)\n",
    "\n",
    "xgb_reg.fit(x_train,y_train)\n",
    "\n",
    "y_pred = xgb_reg.predict(x_test)"
   ]
  },
  {
   "cell_type": "code",
   "execution_count": 160,
   "metadata": {},
   "outputs": [
    {
     "name": "stdout",
     "output_type": "stream",
     "text": [
      "Mean squared error:  580.8074774228031\n",
      "root mean squared error:  24.099947664316684\n",
      "R squared: 0.3518731304956587\n",
      "Mean Absolute Error: 15.960658069836947\n"
     ]
    }
   ],
   "source": [
    "from sklearn.metrics import mean_absolute_error, mean_squared_error, r2_score\n",
    "model = pickle.load(open('xgboost_MSE_580.pkl', 'rb'))\n",
    "y_pred = model.predict(x_test)\n",
    "mse = mean_squared_error(y_test, y_pred)\n",
    "rmse = mean_squared_error(y_test, y_pred,squared=False)\n",
    "r2 = r2_score(y_test,y_pred)\n",
    "mea = mean_absolute_error(y_test,y_pred)\n",
    "print(\"Mean squared error: \", mse)\n",
    "print(\"root mean squared error: \", rmse)\n",
    "print('R squared:',r2)\n",
    "print('Mean Absolute Error:',mea)"
   ]
  },
  {
   "attachments": {},
   "cell_type": "markdown",
   "metadata": {},
   "source": [
    "This model has a max depth of 13, a learning rate of 0.2, and 150 trees."
   ]
  },
  {
   "cell_type": "code",
   "execution_count": null,
   "metadata": {},
   "outputs": [],
   "source": [
    "import xgboost as xgb\n",
    "from sklearn.model_selection import GridSearchCV\n",
    "param_grid = {\n",
    "    'max_depth': [3, 5],\n",
    "    'subsample': [0.8, 1.0],\n",
    "    'colsample_bytree': [0.8, 1.0],\n",
    "    'gamma': [0, 0.1],\n",
    "    'n_estimators': [50, 100]\n",
    "}\n",
    "\n",
    "xgb_reg = xgb.XGBRegressor()\n",
    "\n",
    "grid_search = GridSearchCV(estimator=xgb_reg, param_grid=param_grid, scoring='neg_mean_squared_error', cv=5)\n",
    "grid_search.fit(x_train, y_train)\n",
    "\n",
    "print(\"Best hyperparameters: \", grid_search.best_params_)\n",
    "print(\"MSE: \", -grid_search.best_score_)"
   ]
  },
  {
   "cell_type": "markdown",
   "metadata": {},
   "source": [
    "### Feature Engineering"
   ]
  },
  {
   "cell_type": "markdown",
   "metadata": {},
   "source": [
    "Feature engineering will play a crucial role in this problems. We have only very little attributes so we need to create some features that will have some predictive power.\n",
    "\n",
    "- weather: we can use some weather API to look for the weather in time of the scheduled departure and scheduled arrival.\n",
    "- statistics (avg, mean, median, std, min, max...): we can take a look at previous delays and compute descriptive statistics\n",
    "- airports encoding: we need to think about what to do with the airports and other categorical variables\n",
    "- time of the day: the delay probably depends on the airport traffic which varies during the day.\n",
    "- airport traffic\n",
    "- unsupervised learning as feature engineering?\n",
    "- **what are the additional options?**: Think about what we could do more to improve the model."
   ]
  },
  {
   "cell_type": "code",
   "execution_count": null,
   "metadata": {},
   "outputs": [],
   "source": []
  },
  {
   "cell_type": "code",
   "execution_count": null,
   "metadata": {},
   "outputs": [],
   "source": []
  },
  {
   "cell_type": "code",
   "execution_count": null,
   "metadata": {},
   "outputs": [],
   "source": []
  },
  {
   "cell_type": "code",
   "execution_count": null,
   "metadata": {},
   "outputs": [],
   "source": []
  },
  {
   "cell_type": "code",
   "execution_count": null,
   "metadata": {},
   "outputs": [],
   "source": []
  },
  {
   "cell_type": "markdown",
   "metadata": {},
   "source": [
    "### Feature Selection / Dimensionality Reduction"
   ]
  },
  {
   "cell_type": "markdown",
   "metadata": {},
   "source": [
    "We need to apply different selection techniques to find out which one will be the best for our problems.\n",
    "\n",
    "- Original Features vs. PCA conponents?"
   ]
  },
  {
   "cell_type": "code",
   "execution_count": null,
   "metadata": {},
   "outputs": [],
   "source": []
  },
  {
   "cell_type": "code",
   "execution_count": null,
   "metadata": {},
   "outputs": [],
   "source": []
  },
  {
   "cell_type": "code",
   "execution_count": null,
   "metadata": {},
   "outputs": [],
   "source": []
  },
  {
   "cell_type": "code",
   "execution_count": null,
   "metadata": {},
   "outputs": [],
   "source": []
  },
  {
   "cell_type": "code",
   "execution_count": null,
   "metadata": {},
   "outputs": [],
   "source": []
  },
  {
   "cell_type": "markdown",
   "metadata": {},
   "source": [
    "### Modeling"
   ]
  },
  {
   "cell_type": "markdown",
   "metadata": {},
   "source": [
    "Use different ML techniques to predict each problem.\n",
    "\n",
    "- linear / logistic / multinomial logistic regression\n",
    "- Naive Bayes\n",
    "- Random Forest\n",
    "- SVM\n",
    "- XGBoost\n",
    "- The ensemble of your own choice"
   ]
  },
  {
   "cell_type": "code",
   "execution_count": null,
   "metadata": {},
   "outputs": [],
   "source": []
  },
  {
   "cell_type": "code",
   "execution_count": null,
   "metadata": {},
   "outputs": [],
   "source": []
  },
  {
   "cell_type": "code",
   "execution_count": null,
   "metadata": {},
   "outputs": [],
   "source": []
  },
  {
   "cell_type": "code",
   "execution_count": null,
   "metadata": {},
   "outputs": [],
   "source": []
  },
  {
   "cell_type": "markdown",
   "metadata": {},
   "source": [
    "### Evaluation"
   ]
  },
  {
   "cell_type": "markdown",
   "metadata": {},
   "source": [
    "You have data from 2018 and 2019 to develop models. Use different evaluation metrics for each problem and compare the performance of different models.\n",
    "\n",
    "You are required to predict delays on **out of sample** data from **first 7 days (1st-7th) of January 2020** and to share the file with LighthouseLabs. Sample submission can be found in the file **_sample_submission.csv_**"
   ]
  },
  {
   "cell_type": "code",
   "execution_count": null,
   "metadata": {},
   "outputs": [],
   "source": []
  },
  {
   "cell_type": "code",
   "execution_count": null,
   "metadata": {},
   "outputs": [],
   "source": []
  },
  {
   "cell_type": "code",
   "execution_count": null,
   "metadata": {},
   "outputs": [],
   "source": []
  },
  {
   "cell_type": "code",
   "execution_count": null,
   "metadata": {},
   "outputs": [],
   "source": []
  },
  {
   "cell_type": "markdown",
   "metadata": {},
   "source": [
    "======================================================================\n",
    "## Stretch Tasks"
   ]
  },
  {
   "cell_type": "markdown",
   "metadata": {},
   "source": [
    "### Multiclass Classification"
   ]
  },
  {
   "cell_type": "markdown",
   "metadata": {},
   "source": [
    "The target variables are **CARRIER_DELAY, WEATHER_DELAY, NAS_DELAY, SECURITY_DELAY, LATE_AIRCRAFT_DELAY**. We need to do additional transformations because these variables are not binary but continuos. For each flight that was delayed, we need to have one of these variables as 1 and others 0.\n",
    "\n",
    "It can happen that we have two types of delays with more than 0 minutes. In this case, take the bigger one as 1 and others as 0."
   ]
  },
  {
   "cell_type": "code",
   "execution_count": null,
   "metadata": {},
   "outputs": [],
   "source": []
  },
  {
   "cell_type": "code",
   "execution_count": null,
   "metadata": {},
   "outputs": [],
   "source": []
  },
  {
   "cell_type": "code",
   "execution_count": null,
   "metadata": {},
   "outputs": [],
   "source": []
  },
  {
   "cell_type": "markdown",
   "metadata": {},
   "source": [
    "### Binary Classification"
   ]
  },
  {
   "cell_type": "markdown",
   "metadata": {},
   "source": [
    "The target variable is **CANCELLED**. The main problem here is going to be huge class imbalance. We have only very little cancelled flights with comparison to all flights. It is important to do the right sampling before training and to choose correct evaluation metrics."
   ]
  },
  {
   "cell_type": "code",
   "execution_count": null,
   "metadata": {},
   "outputs": [],
   "source": []
  },
  {
   "cell_type": "code",
   "execution_count": null,
   "metadata": {},
   "outputs": [],
   "source": []
  },
  {
   "cell_type": "code",
   "execution_count": null,
   "metadata": {},
   "outputs": [],
   "source": []
  }
 ],
 "metadata": {
  "kernelspec": {
   "display_name": "base",
   "language": "python",
   "name": "python3"
  },
  "language_info": {
   "codemirror_mode": {
    "name": "ipython",
    "version": 3
   },
   "file_extension": ".py",
   "mimetype": "text/x-python",
   "name": "python",
   "nbconvert_exporter": "python",
   "pygments_lexer": "ipython3",
   "version": "3.9.13"
  },
  "vscode": {
   "interpreter": {
    "hash": "8a34b3273de5bc47428473d2a098b2b644951547a78dfc045c680f0cd3ff6f5f"
   }
  }
 },
 "nbformat": 4,
 "nbformat_minor": 4
}
